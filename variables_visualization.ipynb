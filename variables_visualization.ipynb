{
 "cells": [
  {
   "cell_type": "code",
   "execution_count": 1,
   "metadata": {},
   "outputs": [],
   "source": [
    "import pandas as pd\n",
    "import numpy as np\n",
    "import matplotlib.pyplot as plt"
   ]
  },
  {
   "cell_type": "code",
   "execution_count": 2,
   "metadata": {},
   "outputs": [],
   "source": [
    "import ipywidgets as widgets\n",
    "from ipywidgets import interact"
   ]
  },
  {
   "cell_type": "code",
   "execution_count": 3,
   "metadata": {},
   "outputs": [],
   "source": [
    "import plotly.express as px"
   ]
  },
  {
   "cell_type": "code",
   "execution_count": 4,
   "metadata": {},
   "outputs": [],
   "source": [
    "df = pd.read_csv('./data/rent_airbnb_all_features.csv')"
   ]
  },
  {
   "cell_type": "markdown",
   "metadata": {},
   "source": [
    "## First, simplify columns"
   ]
  },
  {
   "cell_type": "code",
   "execution_count": 5,
   "metadata": {},
   "outputs": [],
   "source": [
    "def sum_columns_and_drop(df, columns, new_column, position):\n",
    "    # convert the list of column names into a numeric range\n",
    "    cols_range = []\n",
    "    for col in columns:\n",
    "        index_no = df.columns.get_loc(col)\n",
    "        cols_range.append(index_no)\n",
    "    cols_range = np.array(cols_range)\n",
    "    \n",
    "    # insert the new colum with the sum of all given columns\n",
    "    df.insert(position, new_column, df.iloc[:, cols_range].sum(axis=1))\n",
    "    # drop the old columns and return the dataframe\n",
    "    return df.drop(columns=columns)\n"
   ]
  },
  {
   "cell_type": "code",
   "execution_count": 6,
   "metadata": {},
   "outputs": [],
   "source": [
    "df = sum_columns_and_drop(df, ['2 Spanish', '3 Spanish', '4 espanyols o més'], 'more than 2 Spanish', 13)\n",
    "df = sum_columns_and_drop(df, ['2 foreigners', '3 foreigners', 'more than 4 foreigners'], 'more than 2 foreigners', 13)\n",
    "df = sum_columns_and_drop(df, ['Up to 6 months', 'From 6 months to 12 motnhs'], 'short-term unemployment', 9)\n",
    "df = df.rename(columns={'Over 12 months':'long-term unemployment'})\n",
    "df = sum_columns_and_drop(df, ['man_without education', 'woman_without education', 'woman_unknown', 'man_unknown'], 'no education', 14)\n",
    "df = sum_columns_and_drop(df, ['man_elementary_school', 'man_junior_high_school', 'man_senior_high_school',\n",
    "                               'woman_elementary_school', 'woman_junior_high_school', 'woman_senior_high_school'], 'medium education', 15)\n",
    "df = sum_columns_and_drop(df, ['man_bachelors_degree', 'woman_bachelors_degree'], 'bachelors degree', 16)\n"
   ]
  },
  {
   "cell_type": "code",
   "execution_count": 7,
   "metadata": {
    "scrolled": true
   },
   "outputs": [
    {
     "data": {
      "text/plain": [
       "['Sant Pere, Santa Caterina i la Ribera',\n",
       " 'el Barri Gòtic',\n",
       " 'el Raval',\n",
       " 'la Barceloneta',\n",
       " 'Sant Antoni',\n",
       " 'el Fort Pienc',\n",
       " \"l'Antiga Esquerra de l'Eixample\",\n",
       " \"la Dreta de l'Eixample\",\n",
       " \"la Nova Esquerra de l'Eixample\",\n",
       " 'la Sagrada Família',\n",
       " 'Vallcarca i els Penitents',\n",
       " \"el Camp d'en Grassot i Gràcia Nova\",\n",
       " 'el Coll',\n",
       " 'la Salut',\n",
       " 'la Vila de Gràcia',\n",
       " 'Can Baró',\n",
       " 'Horta',\n",
       " 'Montbau',\n",
       " 'Sant Genís dels Agudells',\n",
       " 'el Baix Guinardó',\n",
       " 'el Carmel',\n",
       " 'el Guinardó',\n",
       " 'la Clota',\n",
       " \"la Font d'en Fargues\",\n",
       " 'la Teixonera',\n",
       " \"la Vall d'Hebron\",\n",
       " 'Pedralbes',\n",
       " 'la Maternitat i Sant Ramon',\n",
       " 'les Corts',\n",
       " 'Can Peguera',\n",
       " 'Canyelles',\n",
       " 'Ciutat Meridiana',\n",
       " 'Porta',\n",
       " 'Torre Baró',\n",
       " 'Vallbona',\n",
       " 'Verdun',\n",
       " 'Vilapicina i la Torre Llobeta',\n",
       " 'el Turó de la Peira',\n",
       " 'la Guineueta',\n",
       " 'la Prosperitat',\n",
       " 'la Trinitat Nova',\n",
       " 'les Roquetes',\n",
       " 'Baró de Viver',\n",
       " 'Navas',\n",
       " 'Sant Andreu',\n",
       " 'el Bon Pastor',\n",
       " 'el Congrés i els Indians',\n",
       " 'la Sagrera',\n",
       " 'la Trinitat Vella',\n",
       " 'Diagonal Mar i el Front Marítim del Poblenou',\n",
       " 'Provençals del Poblenou',\n",
       " 'Sant Martí de Provençals',\n",
       " 'el Besòs i el Maresme',\n",
       " \"el Camp de l'Arpa del Clot\",\n",
       " 'el Clot',\n",
       " 'el Parc i la Llacuna del Poblenou',\n",
       " 'el Poblenou',\n",
       " 'la Verneda i la Pau',\n",
       " 'la Vila Olímpica del Poblenou',\n",
       " 'Hostafrancs',\n",
       " 'Sants',\n",
       " 'Sants - Badal',\n",
       " 'el Poble Sec',\n",
       " 'la Bordeta',\n",
       " 'la Font de la Guatlla',\n",
       " 'la Marina de Port',\n",
       " 'la Marina del Prat Vermell',\n",
       " 'Sant Gervasi - Galvany',\n",
       " 'Sant Gervasi - la Bonanova',\n",
       " 'Sarrià',\n",
       " 'Vallvidrera, el Tibidabo i les Planes',\n",
       " 'el Putxet i el Farró',\n",
       " 'les Tres Torres']"
      ]
     },
     "execution_count": 7,
     "metadata": {},
     "output_type": "execute_result"
    }
   ],
   "source": [
    "#groupby_neighbourhood_object.get_group('el Raval')\n",
    "neighbourhoods = df['neighbourhood_name'].unique().tolist()\n",
    "neighbourhoods"
   ]
  },
  {
   "cell_type": "code",
   "execution_count": 8,
   "metadata": {},
   "outputs": [
    {
     "data": {
      "text/plain": [
       "['Ciutat Vella',\n",
       " 'Eixample',\n",
       " 'Gràcia',\n",
       " 'Horta-Guinardó',\n",
       " 'Les Corts',\n",
       " 'Nou Barris',\n",
       " 'Sant Andreu',\n",
       " 'Sant Martí',\n",
       " 'Sants-Montjuïc',\n",
       " 'Sarrià-Sant Gervasi']"
      ]
     },
     "execution_count": 8,
     "metadata": {},
     "output_type": "execute_result"
    }
   ],
   "source": [
    "districts = df['district_name'].unique().tolist()\n",
    "districts"
   ]
  },
  {
   "cell_type": "code",
   "execution_count": 9,
   "metadata": {},
   "outputs": [
    {
     "data": {
      "text/plain": [
       "['price_month(€)',\n",
       " 'price_m2_month(€)',\n",
       " 'short-term unemployment',\n",
       " 'long-term unemployment',\n",
       " '1 Spanish',\n",
       " '1 foreigner',\n",
       " 'more than 2 foreigners',\n",
       " 'more than 2 Spanish',\n",
       " 'no education',\n",
       " 'medium education',\n",
       " 'bachelors degree',\n",
       " 'airbnb_price(€)',\n",
       " 'n_airbnb_listings',\n",
       " 'availability_365',\n",
       " 'airbnb_ratio_business',\n",
       " 'airbnb_professional_ratio',\n",
       " 'airbnb_mega_host_ratio']"
      ]
     },
     "execution_count": 9,
     "metadata": {},
     "output_type": "execute_result"
    }
   ],
   "source": [
    "variables = df.columns.drop(['year', 'quarter', 'district_code', 'district_name', 'neighbourhood_code', 'neighbourhood_name']).to_list()\n",
    "variables"
   ]
  },
  {
   "cell_type": "code",
   "execution_count": 10,
   "metadata": {},
   "outputs": [],
   "source": [
    "df['quarter'] = df['quarter'].apply(pd.to_datetime).values"
   ]
  },
  {
   "cell_type": "code",
   "execution_count": 11,
   "metadata": {},
   "outputs": [
    {
     "data": {
      "application/vnd.jupyter.widget-view+json": {
       "model_id": "2bda4b7e7ebf4de19b1acadcf8f77266",
       "version_major": 2,
       "version_minor": 0
      },
      "text/plain": [
       "interactive(children=(Dropdown(description='distr', options=('Ciutat Vella', 'Eixample', 'Gràcia', 'Horta-Guin…"
      ]
     },
     "metadata": {},
     "output_type": "display_data"
    }
   ],
   "source": [
    "@interact\n",
    "def my_plot(distr = districts, \n",
    "            var=variables):\n",
    "    \n",
    "#     fig = px.scatter(df[df['district_name'] == distr], x='quarter', y=var, color='neighbourhood_name',\n",
    "#                         template='simple_white')\n",
    "    fig = px.line(df[df['district_name'] == distr], x='quarter', y=var, color='neighbourhood_name',\n",
    "                  template='simple_white')\n",
    "    fig.show()\n"
   ]
  },
  {
   "cell_type": "code",
   "execution_count": null,
   "metadata": {},
   "outputs": [],
   "source": []
  }
 ],
 "metadata": {
  "kernelspec": {
   "display_name": "Python 3",
   "language": "python",
   "name": "python3"
  },
  "language_info": {
   "codemirror_mode": {
    "name": "ipython",
    "version": 3
   },
   "file_extension": ".py",
   "mimetype": "text/x-python",
   "name": "python",
   "nbconvert_exporter": "python",
   "pygments_lexer": "ipython3",
   "version": "3.8.5"
  }
 },
 "nbformat": 4,
 "nbformat_minor": 4
}
